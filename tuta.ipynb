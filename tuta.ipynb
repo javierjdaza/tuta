{
 "cells": [
  {
   "cell_type": "code",
   "execution_count": 1,
   "metadata": {},
   "outputs": [],
   "source": [
    "import requests\n",
    "from bs4 import BeautifulSoup\n",
    "import unicodedata\n",
    "from pprint import pprint\n",
    "import time\n",
    "from tqdm import tqdm\n",
    "from selenium import webdriver\n",
    "from selenium.webdriver.chrome.options import Options\n",
    "from selenium.webdriver.chrome.service import Service\n",
    "from webdriver_manager.chrome import ChromeDriverManager  \n",
    "from selenium.webdriver.common.by import By\n",
    "import pandas as pd\n",
    "import pickle\n",
    "\n",
    "\n",
    "from bot_utils import skip_popups_and_show_more_button,find_all_matches_ids,get_all_data\n"
   ]
  },
  {
   "cell_type": "code",
   "execution_count": 3,
   "metadata": {},
   "outputs": [],
   "source": [
    "from data_info import dict_ligas"
   ]
  },
  {
   "cell_type": "code",
   "execution_count": 4,
   "metadata": {},
   "outputs": [],
   "source": [
    "options = webdriver.ChromeOptions()\n",
    "options.add_argument(\"--start-maximized\")\n",
    "driver = webdriver.Chrome(service=Service(ChromeDriverManager().install()),options=options)"
   ]
  },
  {
   "cell_type": "code",
   "execution_count": 5,
   "metadata": {},
   "outputs": [
    {
     "name": "stdout",
     "output_type": "stream",
     "text": [
      "inglaterra\n"
     ]
    },
    {
     "name": "stderr",
     "output_type": "stream",
     "text": [
      "100%|██████████| 201/201 [07:53<00:00,  2.35s/it]\n"
     ]
    },
    {
     "name": "stdout",
     "output_type": "stream",
     "text": [
      "inglaterra\n",
      "francia\n"
     ]
    },
    {
     "name": "stderr",
     "output_type": "stream",
     "text": [
      "100%|██████████| 156/156 [06:04<00:00,  2.34s/it]\n"
     ]
    },
    {
     "name": "stdout",
     "output_type": "stream",
     "text": [
      "francia\n",
      "italia\n"
     ]
    },
    {
     "name": "stderr",
     "output_type": "stream",
     "text": [
      "100%|██████████| 194/194 [07:35<00:00,  2.35s/it]\n"
     ]
    },
    {
     "name": "stdout",
     "output_type": "stream",
     "text": [
      "italia\n",
      "españa\n"
     ]
    },
    {
     "name": "stderr",
     "output_type": "stream",
     "text": [
      "100%|██████████| 195/195 [07:40<00:00,  2.36s/it]\n"
     ]
    },
    {
     "name": "stdout",
     "output_type": "stream",
     "text": [
      "españa\n",
      "alemania\n"
     ]
    },
    {
     "name": "stderr",
     "output_type": "stream",
     "text": [
      "100%|██████████| 150/150 [05:51<00:00,  2.34s/it]\n"
     ]
    },
    {
     "name": "stdout",
     "output_type": "stream",
     "text": [
      "alemania\n",
      "austria\n"
     ]
    },
    {
     "name": "stderr",
     "output_type": "stream",
     "text": [
      "100%|██████████| 102/102 [04:01<00:00,  2.37s/it]\n"
     ]
    },
    {
     "name": "stdout",
     "output_type": "stream",
     "text": [
      "austria\n",
      "bulgaria\n"
     ]
    },
    {
     "name": "stderr",
     "output_type": "stream",
     "text": [
      "100%|██████████| 159/159 [07:00<00:00,  2.65s/it]\n"
     ]
    },
    {
     "name": "stdout",
     "output_type": "stream",
     "text": [
      "bulgaria\n",
      "chipre\n"
     ]
    },
    {
     "name": "stderr",
     "output_type": "stream",
     "text": [
      "100%|██████████| 131/131 [05:18<00:00,  2.43s/it]\n"
     ]
    },
    {
     "name": "stdout",
     "output_type": "stream",
     "text": [
      "chipre\n",
      "croacia\n"
     ]
    },
    {
     "name": "stderr",
     "output_type": "stream",
     "text": [
      "100%|██████████| 92/92 [04:18<00:00,  2.81s/it]\n"
     ]
    },
    {
     "name": "stdout",
     "output_type": "stream",
     "text": [
      "croacia\n",
      "dinamarca\n"
     ]
    },
    {
     "name": "stderr",
     "output_type": "stream",
     "text": [
      "100%|██████████| 102/102 [04:38<00:00,  2.73s/it]\n"
     ]
    },
    {
     "name": "stdout",
     "output_type": "stream",
     "text": [
      "dinamarca\n",
      "escocia\n"
     ]
    },
    {
     "name": "stderr",
     "output_type": "stream",
     "text": [
      "100%|██████████| 122/122 [05:07<00:00,  2.52s/it]\n"
     ]
    },
    {
     "name": "stdout",
     "output_type": "stream",
     "text": [
      "escocia\n",
      "gales\n"
     ]
    },
    {
     "name": "stderr",
     "output_type": "stream",
     "text": [
      "100%|██████████| 132/132 [05:35<00:00,  2.54s/it]\n"
     ]
    },
    {
     "name": "stdout",
     "output_type": "stream",
     "text": [
      "gales\n",
      "grecia\n"
     ]
    },
    {
     "name": "stderr",
     "output_type": "stream",
     "text": [
      "100%|██████████| 121/121 [04:52<00:00,  2.42s/it]\n"
     ]
    },
    {
     "name": "stdout",
     "output_type": "stream",
     "text": [
      "grecia\n",
      "hungria\n"
     ]
    },
    {
     "name": "stderr",
     "output_type": "stream",
     "text": [
      "100%|██████████| 102/102 [04:28<00:00,  2.63s/it]\n"
     ]
    },
    {
     "name": "stdout",
     "output_type": "stream",
     "text": [
      "hungria\n",
      "noruega\n"
     ]
    },
    {
     "name": "stderr",
     "output_type": "stream",
     "text": [
      "0it [00:00, ?it/s]\n"
     ]
    },
    {
     "name": "stdout",
     "output_type": "stream",
     "text": [
      "noruega\n",
      "israel\n"
     ]
    },
    {
     "name": "stderr",
     "output_type": "stream",
     "text": [
      "100%|██████████| 110/110 [04:34<00:00,  2.50s/it]\n"
     ]
    },
    {
     "name": "stdout",
     "output_type": "stream",
     "text": [
      "israel\n",
      "holanda\n"
     ]
    },
    {
     "name": "stderr",
     "output_type": "stream",
     "text": [
      "100%|██████████| 149/149 [06:03<00:00,  2.44s/it]\n"
     ]
    },
    {
     "name": "stdout",
     "output_type": "stream",
     "text": [
      "holanda\n",
      "polonia\n"
     ]
    },
    {
     "name": "stderr",
     "output_type": "stream",
     "text": [
      "100%|██████████| 169/169 [07:40<00:00,  2.72s/it]\n"
     ]
    },
    {
     "name": "stdout",
     "output_type": "stream",
     "text": [
      "polonia\n",
      "portugal\n"
     ]
    },
    {
     "name": "stderr",
     "output_type": "stream",
     "text": [
      "100%|██████████| 148/148 [05:46<00:00,  2.34s/it]\n"
     ]
    },
    {
     "name": "stdout",
     "output_type": "stream",
     "text": [
      "portugal\n",
      "r_checa\n"
     ]
    },
    {
     "name": "stderr",
     "output_type": "stream",
     "text": [
      "100%|██████████| 148/148 [06:48<00:00,  2.76s/it]\n"
     ]
    },
    {
     "name": "stdout",
     "output_type": "stream",
     "text": [
      "r_checa\n",
      "serbia\n"
     ]
    },
    {
     "name": "stderr",
     "output_type": "stream",
     "text": [
      "100%|██████████| 152/152 [06:37<00:00,  2.62s/it]\n"
     ]
    },
    {
     "name": "stdout",
     "output_type": "stream",
     "text": [
      "serbia\n",
      "suiza\n"
     ]
    },
    {
     "name": "stderr",
     "output_type": "stream",
     "text": [
      " 94%|█████████▍| 102/108 [04:38<00:16,  2.73s/it]\n"
     ]
    },
    {
     "ename": "WebDriverException",
     "evalue": "Message: unknown error: session deleted because of page crash\nfrom unknown error: cannot determine loading status\nfrom tab crashed\n  (Session info: chrome=120.0.6099.216)\nStacktrace:\n0   chromedriver                        0x0000000102b0c4dc chromedriver + 4162780\n1   chromedriver                        0x0000000102b04664 chromedriver + 4130404\n2   chromedriver                        0x000000010275b9f8 chromedriver + 293368\n3   chromedriver                        0x0000000102745230 chromedriver + 201264\n4   chromedriver                        0x0000000102744ac0 chromedriver + 199360\n5   chromedriver                        0x0000000102743b24 chromedriver + 195364\n6   chromedriver                        0x0000000102743ad0 chromedriver + 195280\n7   chromedriver                        0x0000000102741e3c chromedriver + 187964\n8   chromedriver                        0x0000000102742b30 chromedriver + 191280\n9   chromedriver                        0x0000000102751f5c chromedriver + 253788\n10  chromedriver                        0x00000001027674b4 chromedriver + 341172\n11  chromedriver                        0x00000001027431e0 chromedriver + 192992\n12  chromedriver                        0x000000010276719c chromedriver + 340380\n13  chromedriver                        0x00000001027e1bd8 chromedriver + 842712\n14  chromedriver                        0x00000001027956bc chromedriver + 530108\n15  chromedriver                        0x0000000102796930 chromedriver + 534832\n16  chromedriver                        0x0000000102ad1e08 chromedriver + 3923464\n17  chromedriver                        0x0000000102ad63dc chromedriver + 3941340\n18  chromedriver                        0x0000000102aba038 chromedriver + 3825720\n19  chromedriver                        0x0000000102ad6f3c chromedriver + 3944252\n20  chromedriver                        0x0000000102aac6f4 chromedriver + 3770100\n21  chromedriver                        0x0000000102af3980 chromedriver + 4061568\n22  chromedriver                        0x0000000102af3af8 chromedriver + 4061944\n23  chromedriver                        0x0000000102b042e4 chromedriver + 4129508\n24  libsystem_pthread.dylib             0x000000018e94626c _pthread_start + 148\n25  libsystem_pthread.dylib             0x000000018e94108c thread_start + 8\n",
     "output_type": "error",
     "traceback": [
      "\u001b[0;31m---------------------------------------------------------------------------\u001b[0m",
      "\u001b[0;31mWebDriverException\u001b[0m                        Traceback (most recent call last)",
      "Cell \u001b[0;32mIn[5], line 6\u001b[0m\n\u001b[1;32m      4\u001b[0m driver \u001b[38;5;241m=\u001b[39m skip_popups_and_show_more_button(driver)\n\u001b[1;32m      5\u001b[0m id_matches \u001b[38;5;241m=\u001b[39m find_all_matches_ids(driver)\n\u001b[0;32m----> 6\u001b[0m results \u001b[38;5;241m=\u001b[39m \u001b[43mget_all_data\u001b[49m\u001b[43m(\u001b[49m\u001b[43mdriver\u001b[49m\u001b[43m,\u001b[49m\u001b[43mid_matches\u001b[49m\u001b[43m)\u001b[49m\n\u001b[1;32m      8\u001b[0m \u001b[38;5;28;01mwith\u001b[39;00m \u001b[38;5;28mopen\u001b[39m(\u001b[38;5;124mf\u001b[39m\u001b[38;5;124m'\u001b[39m\u001b[38;5;124m./data/\u001b[39m\u001b[38;5;132;01m{\u001b[39;00mliga_name\u001b[38;5;132;01m}\u001b[39;00m\u001b[38;5;124m.pkl\u001b[39m\u001b[38;5;124m'\u001b[39m,\u001b[38;5;124m'\u001b[39m\u001b[38;5;124mwb\u001b[39m\u001b[38;5;124m'\u001b[39m) \u001b[38;5;28;01mas\u001b[39;00m handle:\n\u001b[1;32m      9\u001b[0m     pickle\u001b[38;5;241m.\u001b[39mdump(results, handle, protocol\u001b[38;5;241m=\u001b[39mpickle\u001b[38;5;241m.\u001b[39mHIGHEST_PROTOCOL)\n",
      "File \u001b[0;32m~/Documents/tuta/bot_utils.py:44\u001b[0m, in \u001b[0;36mget_all_data\u001b[0;34m(driver, id_matches)\u001b[0m\n\u001b[1;32m     42\u001b[0m \u001b[38;5;28;01mfor\u001b[39;00m id_match \u001b[38;5;129;01min\u001b[39;00m tqdm(id_matches):\n\u001b[1;32m     43\u001b[0m     url_tamplate_matches \u001b[38;5;241m=\u001b[39m \u001b[38;5;124mf\u001b[39m\u001b[38;5;124m'\u001b[39m\u001b[38;5;124mhttps://www.flashscore.co/partido/\u001b[39m\u001b[38;5;132;01m{\u001b[39;00mid_match\u001b[38;5;132;01m}\u001b[39;00m\u001b[38;5;124m/#/resumen-del-partido/estadisticas-del-partido/0\u001b[39m\u001b[38;5;124m'\u001b[39m\n\u001b[0;32m---> 44\u001b[0m     \u001b[43mdriver\u001b[49m\u001b[38;5;241;43m.\u001b[39;49m\u001b[43mget\u001b[49m\u001b[43m(\u001b[49m\u001b[43murl_tamplate_matches\u001b[49m\u001b[43m)\u001b[49m\n\u001b[1;32m     45\u001b[0m     time\u001b[38;5;241m.\u001b[39msleep(\u001b[38;5;241m1.5\u001b[39m)\n\u001b[1;32m     47\u001b[0m     \u001b[38;5;66;03m# CICLO FOR\u001b[39;00m\n",
      "File \u001b[0;32m~/Documents/tuta/.venv/lib/python3.11/site-packages/selenium/webdriver/remote/webdriver.py:357\u001b[0m, in \u001b[0;36mWebDriver.get\u001b[0;34m(self, url)\u001b[0m\n\u001b[1;32m    355\u001b[0m \u001b[38;5;28;01mdef\u001b[39;00m \u001b[38;5;21mget\u001b[39m(\u001b[38;5;28mself\u001b[39m, url: \u001b[38;5;28mstr\u001b[39m) \u001b[38;5;241m-\u001b[39m\u001b[38;5;241m>\u001b[39m \u001b[38;5;28;01mNone\u001b[39;00m:\n\u001b[1;32m    356\u001b[0m \u001b[38;5;250m    \u001b[39m\u001b[38;5;124;03m\"\"\"Loads a web page in the current browser session.\"\"\"\u001b[39;00m\n\u001b[0;32m--> 357\u001b[0m     \u001b[38;5;28;43mself\u001b[39;49m\u001b[38;5;241;43m.\u001b[39;49m\u001b[43mexecute\u001b[49m\u001b[43m(\u001b[49m\u001b[43mCommand\u001b[49m\u001b[38;5;241;43m.\u001b[39;49m\u001b[43mGET\u001b[49m\u001b[43m,\u001b[49m\u001b[43m \u001b[49m\u001b[43m{\u001b[49m\u001b[38;5;124;43m\"\u001b[39;49m\u001b[38;5;124;43murl\u001b[39;49m\u001b[38;5;124;43m\"\u001b[39;49m\u001b[43m:\u001b[49m\u001b[43m \u001b[49m\u001b[43murl\u001b[49m\u001b[43m}\u001b[49m\u001b[43m)\u001b[49m\n",
      "File \u001b[0;32m~/Documents/tuta/.venv/lib/python3.11/site-packages/selenium/webdriver/remote/webdriver.py:348\u001b[0m, in \u001b[0;36mWebDriver.execute\u001b[0;34m(self, driver_command, params)\u001b[0m\n\u001b[1;32m    346\u001b[0m response \u001b[38;5;241m=\u001b[39m \u001b[38;5;28mself\u001b[39m\u001b[38;5;241m.\u001b[39mcommand_executor\u001b[38;5;241m.\u001b[39mexecute(driver_command, params)\n\u001b[1;32m    347\u001b[0m \u001b[38;5;28;01mif\u001b[39;00m response:\n\u001b[0;32m--> 348\u001b[0m     \u001b[38;5;28;43mself\u001b[39;49m\u001b[38;5;241;43m.\u001b[39;49m\u001b[43merror_handler\u001b[49m\u001b[38;5;241;43m.\u001b[39;49m\u001b[43mcheck_response\u001b[49m\u001b[43m(\u001b[49m\u001b[43mresponse\u001b[49m\u001b[43m)\u001b[49m\n\u001b[1;32m    349\u001b[0m     response[\u001b[38;5;124m\"\u001b[39m\u001b[38;5;124mvalue\u001b[39m\u001b[38;5;124m\"\u001b[39m] \u001b[38;5;241m=\u001b[39m \u001b[38;5;28mself\u001b[39m\u001b[38;5;241m.\u001b[39m_unwrap_value(response\u001b[38;5;241m.\u001b[39mget(\u001b[38;5;124m\"\u001b[39m\u001b[38;5;124mvalue\u001b[39m\u001b[38;5;124m\"\u001b[39m, \u001b[38;5;28;01mNone\u001b[39;00m))\n\u001b[1;32m    350\u001b[0m     \u001b[38;5;28;01mreturn\u001b[39;00m response\n",
      "File \u001b[0;32m~/Documents/tuta/.venv/lib/python3.11/site-packages/selenium/webdriver/remote/errorhandler.py:229\u001b[0m, in \u001b[0;36mErrorHandler.check_response\u001b[0;34m(self, response)\u001b[0m\n\u001b[1;32m    227\u001b[0m         alert_text \u001b[38;5;241m=\u001b[39m value[\u001b[38;5;124m\"\u001b[39m\u001b[38;5;124malert\u001b[39m\u001b[38;5;124m\"\u001b[39m]\u001b[38;5;241m.\u001b[39mget(\u001b[38;5;124m\"\u001b[39m\u001b[38;5;124mtext\u001b[39m\u001b[38;5;124m\"\u001b[39m)\n\u001b[1;32m    228\u001b[0m     \u001b[38;5;28;01mraise\u001b[39;00m exception_class(message, screen, stacktrace, alert_text)  \u001b[38;5;66;03m# type: ignore[call-arg]  # mypy is not smart enough here\u001b[39;00m\n\u001b[0;32m--> 229\u001b[0m \u001b[38;5;28;01mraise\u001b[39;00m exception_class(message, screen, stacktrace)\n",
      "\u001b[0;31mWebDriverException\u001b[0m: Message: unknown error: session deleted because of page crash\nfrom unknown error: cannot determine loading status\nfrom tab crashed\n  (Session info: chrome=120.0.6099.216)\nStacktrace:\n0   chromedriver                        0x0000000102b0c4dc chromedriver + 4162780\n1   chromedriver                        0x0000000102b04664 chromedriver + 4130404\n2   chromedriver                        0x000000010275b9f8 chromedriver + 293368\n3   chromedriver                        0x0000000102745230 chromedriver + 201264\n4   chromedriver                        0x0000000102744ac0 chromedriver + 199360\n5   chromedriver                        0x0000000102743b24 chromedriver + 195364\n6   chromedriver                        0x0000000102743ad0 chromedriver + 195280\n7   chromedriver                        0x0000000102741e3c chromedriver + 187964\n8   chromedriver                        0x0000000102742b30 chromedriver + 191280\n9   chromedriver                        0x0000000102751f5c chromedriver + 253788\n10  chromedriver                        0x00000001027674b4 chromedriver + 341172\n11  chromedriver                        0x00000001027431e0 chromedriver + 192992\n12  chromedriver                        0x000000010276719c chromedriver + 340380\n13  chromedriver                        0x00000001027e1bd8 chromedriver + 842712\n14  chromedriver                        0x00000001027956bc chromedriver + 530108\n15  chromedriver                        0x0000000102796930 chromedriver + 534832\n16  chromedriver                        0x0000000102ad1e08 chromedriver + 3923464\n17  chromedriver                        0x0000000102ad63dc chromedriver + 3941340\n18  chromedriver                        0x0000000102aba038 chromedriver + 3825720\n19  chromedriver                        0x0000000102ad6f3c chromedriver + 3944252\n20  chromedriver                        0x0000000102aac6f4 chromedriver + 3770100\n21  chromedriver                        0x0000000102af3980 chromedriver + 4061568\n22  chromedriver                        0x0000000102af3af8 chromedriver + 4061944\n23  chromedriver                        0x0000000102b042e4 chromedriver + 4129508\n24  libsystem_pthread.dylib             0x000000018e94626c _pthread_start + 148\n25  libsystem_pthread.dylib             0x000000018e94108c thread_start + 8\n"
     ]
    }
   ],
   "source": [
    "for liga_name,liga_url in dict_ligas.items():\n",
    "    print(liga_name)\n",
    "    driver.get(liga_url)\n",
    "    driver = skip_popups_and_show_more_button(driver)\n",
    "    id_matches = find_all_matches_ids(driver)\n",
    "    results = get_all_data(driver,id_matches)\n",
    "\n",
    "    with open(f'./data/{liga_name}.pkl','wb') as handle:\n",
    "        pickle.dump(results, handle, protocol=pickle.HIGHEST_PROTOCOL)\n",
    "    print(liga_name)\n"
   ]
  },
  {
   "cell_type": "code",
   "execution_count": null,
   "metadata": {},
   "outputs": [],
   "source": [
    "# with open(f'./data/{liga_name_for_pickle}.pkl','wb') as handle:\n",
    "#     pickle.dump(results, handle, protocol=pickle.HIGHEST_PROTOCOL)\n"
   ]
  },
  {
   "cell_type": "code",
   "execution_count": null,
   "metadata": {},
   "outputs": [],
   "source": [
    "x = pickle.load(open('./data/premier_league.pkl','rb'))"
   ]
  },
  {
   "cell_type": "code",
   "execution_count": null,
   "metadata": {},
   "outputs": [],
   "source": [
    "driver.quit()"
   ]
  },
  {
   "cell_type": "code",
   "execution_count": null,
   "metadata": {},
   "outputs": [],
   "source": []
  }
 ],
 "metadata": {
  "kernelspec": {
   "display_name": ".venv",
   "language": "python",
   "name": "python3"
  },
  "language_info": {
   "codemirror_mode": {
    "name": "ipython",
    "version": 3
   },
   "file_extension": ".py",
   "mimetype": "text/x-python",
   "name": "python",
   "nbconvert_exporter": "python",
   "pygments_lexer": "ipython3",
   "version": "3.11.0"
  }
 },
 "nbformat": 4,
 "nbformat_minor": 2
}
